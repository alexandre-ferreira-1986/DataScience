{
  "nbformat": 4,
  "nbformat_minor": 0,
  "metadata": {
    "colab": {
      "name": "01 - Analisando os Dados do Airbnb_LISBOA.ipynb",
      "provenance": [],
      "collapsed_sections": [],
      "toc_visible": true,
      "include_colab_link": true
    },
    "kernelspec": {
      "name": "python3",
      "display_name": "Python 3"
    }
  },
  "cells": [
    {
      "cell_type": "markdown",
      "metadata": {
        "id": "view-in-github",
        "colab_type": "text"
      },
      "source": [
        "<a href=\"https://colab.research.google.com/github/alexandre-ferreira-1986/DataScience/blob/main/01_Analisando_os_Dados_do_Airbnb_LISBOA.ipynb\" target=\"_parent\"><img src=\"https://colab.research.google.com/assets/colab-badge.svg\" alt=\"Open In Colab\"/></a>"
      ]
    },
    {
      "cell_type": "markdown",
      "metadata": {
        "id": "kLI0gJtzDGuQ"
      },
      "source": [
        "<img alt=\"Colaboratory logo\" width=\"40%\" src=\"https://github.com/alexandre-ferreira-1986/DataScience/blob/main/Images/Logo_04_02_menor.jpg?raw=true\">\n",
        "\n",
        "**Blog: [ThinkingData](https://www.thinkingdata.com.br)**\n",
        "\n",
        "##### **Projeto do DSNP 3.0**\n",
        "*Template by [sigmoidal.ai](https://sigmoidal.ai)*\n",
        "\n",
        "---\n",
        "\n",
        "# Análise dos Dados do Airbnb - *LISBOA*\n",
        "\n",
        "O [Airbnb](https://www.airbnb.com.br/) já é considerado como sendo a **maior empresa hoteleira da atualidade**. Ah, o detalhe é que ele **não possui nenhum hotel**!\n",
        "\n",
        "A missão do Airbnb se fundamenta na ideia de que as pessoas são essencialmente boas e que uma comunidade é um lugar onde você possa se sentir em casa.\n",
        "\n",
        "No final de 2018, a Startup fundada 10 anos atrás, já havia **hospedado mais de 300 milhões** de pessoas ao redor de todo o mundo, desafiando as redes hoteleiras tradicionais.\n",
        "\n",
        "Uma das iniciativas do Airbnb é disponibilizar dados do site, para algumas das principais cidades do mundo. Por meio do portal [Inside Airbnb](http://insideairbnb.com/get-the-data.html), é possível baixar uma grande quantidade de dados para desenvolver projetos e soluções de *Data Science*.\n",
        "\n",
        "<center><img alt=\"Analisando Airbnb\" width=\"30%\" src=\"https://www.area360.com.au/wp-content/uploads/2017/09/airbnb-logo.jpg\"></center>\n",
        "\n",
        "**Neste *notebook*, iremos analisar os dados referentes à cidade LISBOA, e ver quais insights podem ser extraídos a partir de dados brutos.**"
      ]
    },
    {
      "cell_type": "markdown",
      "metadata": {
        "id": "0zxQHhIUDF_2"
      },
      "source": [
        "## Obtenção dos Dados\n",
        "\n",
        "Todos os dados usados aqui foram obtidos a partir do site [Inside Airbnb](http://insideairbnb.com/get-the-data.html).\n",
        "\n",
        "Para esta análise exploratória inicial, será baixado apenas o seguinte arquivo:\n",
        "\n",
        "* `listings.csv` - *Summary information and metrics for listings in Lisbon (good for visualisations).*\n",
        "\n",
        "**Importante**: O portal está em constante evolução, e em determinado momento, pode ser que o [conjunto de dados](http://data.insideairbnb.com/portugal/lisbon/lisbon/2021-07-10/visualisations/listings.csv) exato utilizado nesse notebook não esteja mais disponível, o que quebraria nosso código.\n",
        "\n",
        "Pensando nisso, o arquivo original foi inserido no GITHUB e pode ser encontrado [aqui](https://github.com/alexandre-ferreira-1986/DataScience/blob/main/data/airbnb_listings.csv).\n"
      ]
    },
    {
      "cell_type": "code",
      "metadata": {
        "id": "Vhp2wMPgJ6zX"
      },
      "source": [
        "# Importação de Pacotes\n",
        "\n",
        "import pandas as pd\n",
        "import matplotlib.pyplot as plt\n",
        "import seaborn as sns\n",
        "\n",
        "%matplotlib inline\n"
      ],
      "execution_count": null,
      "outputs": []
    },
    {
      "cell_type": "code",
      "metadata": {
        "id": "tUmoAT8DLQ5T"
      },
      "source": [
        "# Importação do arquivo \"listings.csv\" para um DataFrame\n",
        "\n",
        "df = pd.read_csv(\"https://raw.githubusercontent.com/alexandre-ferreira-1986/DataScience/main/data/airbnb_listings.csv\")"
      ],
      "execution_count": null,
      "outputs": []
    },
    {
      "cell_type": "markdown",
      "metadata": {
        "id": "qb5By2nIMS6m"
      },
      "source": [
        "## Análise dos Dados\n"
      ]
    },
    {
      "cell_type": "markdown",
      "metadata": {
        "id": "RYgvuebKNg8-"
      },
      "source": [
        "**Dicionário das variáveis**\n",
        "\n",
        "`Descrição dos dados importados`\n",
        "\n",
        "* `id` - identificador único que identifica o imóvel\n",
        "* `name` - nome da propriedade anunciada\n",
        "* `host_id` - número único de id do proprietário (anfitrião) da propriedade\n",
        "* `host_name` - Nome do anfitrião. Normalmente o primeiro nome\n",
        "* `neighbourhood_group` - esta coluna não contém nenhum valor válido\n",
        "* `neighbourhood` - nome do bairro\n",
        "* `latitude` - coordenada da latitude da propriedade\n",
        "* `longitude` - coordenada da longitude da propriedade\n",
        "* `room_type` - informa o tipo de quarto que é oferecido (lugar inteiro, quarto privado....)\n",
        "* `price` - preço para alugar o imóvel\n",
        "* `minimum_nights` - quantidade mínima de noites para reservar\n",
        "* `number_of_reviews` - número de reviews que a propriedade possui\n",
        "* `last_review` - data do último review\n",
        "* `reviews_per_month` - quantidade de reviews por mês\n",
        "* `calculated_host_listings_count` - quantidade de imóveis do mesmo anfitrião\n",
        "* `availability_365` - número de dias de disponibilidade dentro de 365 dias\n",
        "\n",
        "Antes de iniciar qualquer análise, vamos verificar a cara do nosso *dataset*, analisando as 5 primeiras entradas."
      ]
    },
    {
      "cell_type": "code",
      "metadata": {
        "id": "2iS_dae7YQtO",
        "colab": {
          "base_uri": "https://localhost:8080/",
          "height": 479
        },
        "outputId": "bdc58769-c781-40fa-f390-846491534dde"
      },
      "source": [
        "# mostrar as 5 primeiras entradas\n",
        "df.head()"
      ],
      "execution_count": null,
      "outputs": [
        {
          "output_type": "execute_result",
          "data": {
            "text/html": [
              "<div>\n",
              "<style scoped>\n",
              "    .dataframe tbody tr th:only-of-type {\n",
              "        vertical-align: middle;\n",
              "    }\n",
              "\n",
              "    .dataframe tbody tr th {\n",
              "        vertical-align: top;\n",
              "    }\n",
              "\n",
              "    .dataframe thead th {\n",
              "        text-align: right;\n",
              "    }\n",
              "</style>\n",
              "<table border=\"1\" class=\"dataframe\">\n",
              "  <thead>\n",
              "    <tr style=\"text-align: right;\">\n",
              "      <th></th>\n",
              "      <th>id</th>\n",
              "      <th>name</th>\n",
              "      <th>host_id</th>\n",
              "      <th>host_name</th>\n",
              "      <th>neighbourhood_group</th>\n",
              "      <th>neighbourhood</th>\n",
              "      <th>latitude</th>\n",
              "      <th>longitude</th>\n",
              "      <th>room_type</th>\n",
              "      <th>price</th>\n",
              "      <th>minimum_nights</th>\n",
              "      <th>number_of_reviews</th>\n",
              "      <th>last_review</th>\n",
              "      <th>reviews_per_month</th>\n",
              "      <th>calculated_host_listings_count</th>\n",
              "      <th>availability_365</th>\n",
              "    </tr>\n",
              "  </thead>\n",
              "  <tbody>\n",
              "    <tr>\n",
              "      <th>0</th>\n",
              "      <td>6499</td>\n",
              "      <td>Belém 1 Bedroom Historical Apartment</td>\n",
              "      <td>14455</td>\n",
              "      <td>Bruno</td>\n",
              "      <td>Lisboa</td>\n",
              "      <td>Belm</td>\n",
              "      <td>38.69750</td>\n",
              "      <td>-9.19768</td>\n",
              "      <td>Entire home/apt</td>\n",
              "      <td>40</td>\n",
              "      <td>3</td>\n",
              "      <td>27</td>\n",
              "      <td>2021-01-26</td>\n",
              "      <td>0.32</td>\n",
              "      <td>1</td>\n",
              "      <td>83</td>\n",
              "    </tr>\n",
              "    <tr>\n",
              "      <th>1</th>\n",
              "      <td>25659</td>\n",
              "      <td>Heart of Alfama Lisbon Center - Cœur de l'Alfama</td>\n",
              "      <td>107347</td>\n",
              "      <td>Ellie</td>\n",
              "      <td>Lisboa</td>\n",
              "      <td>Santa Maria Maior</td>\n",
              "      <td>38.71241</td>\n",
              "      <td>-9.12706</td>\n",
              "      <td>Entire home/apt</td>\n",
              "      <td>45</td>\n",
              "      <td>3</td>\n",
              "      <td>114</td>\n",
              "      <td>2019-11-08</td>\n",
              "      <td>1.30</td>\n",
              "      <td>1</td>\n",
              "      <td>305</td>\n",
              "    </tr>\n",
              "    <tr>\n",
              "      <th>2</th>\n",
              "      <td>29248</td>\n",
              "      <td>Apartamento Alfama com vista para o rio!</td>\n",
              "      <td>125768</td>\n",
              "      <td>Bárbara</td>\n",
              "      <td>Lisboa</td>\n",
              "      <td>Santa Maria Maior</td>\n",
              "      <td>38.71082</td>\n",
              "      <td>-9.12719</td>\n",
              "      <td>Entire home/apt</td>\n",
              "      <td>50</td>\n",
              "      <td>3</td>\n",
              "      <td>328</td>\n",
              "      <td>2019-10-29</td>\n",
              "      <td>2.77</td>\n",
              "      <td>1</td>\n",
              "      <td>143</td>\n",
              "    </tr>\n",
              "    <tr>\n",
              "      <th>3</th>\n",
              "      <td>29396</td>\n",
              "      <td>Alfama Hill - Boutique apartment</td>\n",
              "      <td>126415</td>\n",
              "      <td>Mónica</td>\n",
              "      <td>Lisboa</td>\n",
              "      <td>Santa Maria Maior</td>\n",
              "      <td>38.71156</td>\n",
              "      <td>-9.12987</td>\n",
              "      <td>Entire home/apt</td>\n",
              "      <td>53</td>\n",
              "      <td>2</td>\n",
              "      <td>274</td>\n",
              "      <td>2020-11-26</td>\n",
              "      <td>2.74</td>\n",
              "      <td>1</td>\n",
              "      <td>303</td>\n",
              "    </tr>\n",
              "    <tr>\n",
              "      <th>4</th>\n",
              "      <td>29720</td>\n",
              "      <td>TheHOUSE - Your luxury home</td>\n",
              "      <td>128075</td>\n",
              "      <td>Francisco</td>\n",
              "      <td>Lisboa</td>\n",
              "      <td>Estrela</td>\n",
              "      <td>38.71108</td>\n",
              "      <td>-9.15979</td>\n",
              "      <td>Entire home/apt</td>\n",
              "      <td>1114</td>\n",
              "      <td>2</td>\n",
              "      <td>55</td>\n",
              "      <td>2020-03-11</td>\n",
              "      <td>0.84</td>\n",
              "      <td>1</td>\n",
              "      <td>349</td>\n",
              "    </tr>\n",
              "  </tbody>\n",
              "</table>\n",
              "</div>"
            ],
            "text/plain": [
              "      id  ... availability_365\n",
              "0   6499  ...               83\n",
              "1  25659  ...              305\n",
              "2  29248  ...              143\n",
              "3  29396  ...              303\n",
              "4  29720  ...              349\n",
              "\n",
              "[5 rows x 16 columns]"
            ]
          },
          "metadata": {},
          "execution_count": 3
        }
      ]
    },
    {
      "cell_type": "markdown",
      "metadata": {
        "id": "6-B_qtEaYEd-"
      },
      "source": [
        "### **Q1. Quantos atributos (variáveis) e quantas entradas o nosso conjunto de dados possui? Quais os tipos das variáveis?**\n",
        "\n",
        "A compreensão inicial dos dados é essencial, para checar o tamanho e quais tipos de dados estamos lidando.\n",
        "Para isso, serão identificados:\n",
        "* A quantidade de  linhas\n",
        "* A quantidade de colunas\n",
        "* O tipo de cada dado importado"
      ]
    },
    {
      "cell_type": "code",
      "metadata": {
        "id": "TFRK0tniLV-G",
        "colab": {
          "base_uri": "https://localhost:8080/",
          "height": 391
        },
        "outputId": "6c702fe9-7bcb-497c-bde8-fa1a7df59c96"
      },
      "source": [
        "# identificação do volume de dados do DataFrame\n",
        "print(\"Entradas:\\t {}\".format(df.shape[0]))\n",
        "print(\"Variáveis:\\t {}\\n\\n\".format(df.shape[1]))\n",
        "\n",
        "# verificação dos tipos de entradas do dataset\n",
        "print(\"Tipos de dados:\")\n",
        "display(df.dtypes)"
      ],
      "execution_count": null,
      "outputs": [
        {
          "output_type": "stream",
          "name": "stdout",
          "text": [
            "Entradas:\t 19458\n",
            "Variáveis:\t 16\n",
            "\n",
            "\n",
            "Tipos de dados:\n"
          ]
        },
        {
          "output_type": "display_data",
          "data": {
            "text/plain": [
              "id                                  int64\n",
              "name                               object\n",
              "host_id                             int64\n",
              "host_name                          object\n",
              "neighbourhood_group                object\n",
              "neighbourhood                      object\n",
              "latitude                          float64\n",
              "longitude                         float64\n",
              "room_type                          object\n",
              "price                               int64\n",
              "minimum_nights                      int64\n",
              "number_of_reviews                   int64\n",
              "last_review                        object\n",
              "reviews_per_month                 float64\n",
              "calculated_host_listings_count      int64\n",
              "availability_365                    int64\n",
              "dtype: object"
            ]
          },
          "metadata": {}
        }
      ]
    },
    {
      "cell_type": "markdown",
      "metadata": {
        "id": "yz1urSUGW9iE"
      },
      "source": [
        "### **Q2. Qual a porcentagem de valores ausentes no *dataset*?**\n",
        "\n",
        "Após identificar o tamanho do dataset e suas variáveis, começamos a conhecer um pouco melhor com o que estamos lidando.\n",
        "Agora se faz necessário saber quantos dados estão ausentes, ou seja, quantas informações estão faltando no dataset e que podem acabar atrapalhando as análises.\n",
        "\n",
        "Os dados abaixo trazem as seguintes informações:\n",
        "* Não há nenhuma coluna que esteja faltando valores na sua totalidade;\n",
        "* As colunas com mais dados ausentes são: *reviews_per_month* e *last_review*, com 18,36% aproximadamente.\n",
        "* Depois destas duas os valores ausentes são menores que 0,1%, aproximadamente."
      ]
    },
    {
      "cell_type": "code",
      "metadata": {
        "id": "plk2FjbCXOqP",
        "colab": {
          "base_uri": "https://localhost:8080/"
        },
        "outputId": "30cda6ea-96f6-4b13-a957-3c90cccf5b1d"
      },
      "source": [
        "# ordenar em ordem decrescente as variáveis por seus valores ausentes\n",
        "(df.isnull().sum() / df.shape[0]).sort_values(ascending=False)"
      ],
      "execution_count": null,
      "outputs": [
        {
          "output_type": "execute_result",
          "data": {
            "text/plain": [
              "reviews_per_month                 0.183626\n",
              "last_review                       0.183626\n",
              "host_name                         0.001079\n",
              "name                              0.000514\n",
              "availability_365                  0.000000\n",
              "calculated_host_listings_count    0.000000\n",
              "number_of_reviews                 0.000000\n",
              "minimum_nights                    0.000000\n",
              "price                             0.000000\n",
              "room_type                         0.000000\n",
              "longitude                         0.000000\n",
              "latitude                          0.000000\n",
              "neighbourhood                     0.000000\n",
              "neighbourhood_group               0.000000\n",
              "host_id                           0.000000\n",
              "id                                0.000000\n",
              "dtype: float64"
            ]
          },
          "metadata": {},
          "execution_count": 5
        }
      ]
    },
    {
      "cell_type": "markdown",
      "metadata": {
        "id": "iHXvvHIxaoNc"
      },
      "source": [
        "### **Q3. Qual o tipo de distribuição das variáveis?** "
      ]
    },
    {
      "cell_type": "code",
      "metadata": {
        "id": "q2wWSfeRbmBo",
        "colab": {
          "base_uri": "https://localhost:8080/",
          "height": 607
        },
        "outputId": "49fee47c-b7b4-4e60-ff2e-1801da9991d1"
      },
      "source": [
        "# plotar o histograma das variáveis numéricas\n",
        "df.hist(bins=15, figsize=(15,10));"
      ],
      "execution_count": null,
      "outputs": [
        {
          "output_type": "display_data",
          "data": {
            "image/png": "[encoded data removed]",
            "text/plain": [
              "<Figure size 1080x720 with 12 Axes>"
            ]
          },
          "metadata": {
            "needs_background": "light"
          }
        }
      ]
    },
    {
      "cell_type": "markdown",
      "metadata": {
        "id": "7x4aw1j5wNmn"
      },
      "source": [
        "### **Q4. Qual a média dos preços de aluguel?**\n",
        "A partir dos histogramas acima, é possível verificar indícios de *outliers*. Fato observado, por exemplo, nas variáveis:\n",
        "* `price`\n",
        "* `minimum_nights`\n",
        "*  `calculated_host_listings_count`\n",
        "\n",
        "Os valores não seguem uma distribuição uniforme."
      ]
    },
    {
      "cell_type": "code",
      "metadata": {
        "id": "ff-8gUahLk-C",
        "colab": {
          "base_uri": "https://localhost:8080/"
        },
        "outputId": "77f1af24-e944-4148-bb38-de0441d7adaf"
      },
      "source": [
        "# ver a média da coluna `price``\n",
        "df.price.mean()"
      ],
      "execution_count": null,
      "outputs": [
        {
          "output_type": "execute_result",
          "data": {
            "text/plain": [
              "108.29602220166512"
            ]
          },
          "metadata": {},
          "execution_count": 7
        }
      ]
    },
    {
      "cell_type": "code",
      "metadata": {
        "colab": {
          "base_uri": "https://localhost:8080/",
          "height": 297
        },
        "id": "FR_6lqj0BO4g",
        "outputId": "da9eb97f-aef6-4d08-eb32-d89570811763"
      },
      "source": [
        "# Conferir os dados estatísticos das 3 variáveis acima.\n",
        "\n",
        "df[['price', 'minimum_nights', 'calculated_host_listings_count']].describe()"
      ],
      "execution_count": null,
      "outputs": [
        {
          "output_type": "execute_result",
          "data": {
            "text/html": [
              "<div>\n",
              "<style scoped>\n",
              "    .dataframe tbody tr th:only-of-type {\n",
              "        vertical-align: middle;\n",
              "    }\n",
              "\n",
              "    .dataframe tbody tr th {\n",
              "        vertical-align: top;\n",
              "    }\n",
              "\n",
              "    .dataframe thead th {\n",
              "        text-align: right;\n",
              "    }\n",
              "</style>\n",
              "<table border=\"1\" class=\"dataframe\">\n",
              "  <thead>\n",
              "    <tr style=\"text-align: right;\">\n",
              "      <th></th>\n",
              "      <th>price</th>\n",
              "      <th>minimum_nights</th>\n",
              "      <th>calculated_host_listings_count</th>\n",
              "    </tr>\n",
              "  </thead>\n",
              "  <tbody>\n",
              "    <tr>\n",
              "      <th>count</th>\n",
              "      <td>19458.000000</td>\n",
              "      <td>19458.000000</td>\n",
              "      <td>19458.000000</td>\n",
              "    </tr>\n",
              "    <tr>\n",
              "      <th>mean</th>\n",
              "      <td>108.296022</td>\n",
              "      <td>3.850396</td>\n",
              "      <td>14.212560</td>\n",
              "    </tr>\n",
              "    <tr>\n",
              "      <th>std</th>\n",
              "      <td>281.433465</td>\n",
              "      <td>16.737444</td>\n",
              "      <td>36.725234</td>\n",
              "    </tr>\n",
              "    <tr>\n",
              "      <th>min</th>\n",
              "      <td>0.000000</td>\n",
              "      <td>1.000000</td>\n",
              "      <td>1.000000</td>\n",
              "    </tr>\n",
              "    <tr>\n",
              "      <th>25%</th>\n",
              "      <td>50.000000</td>\n",
              "      <td>1.000000</td>\n",
              "      <td>1.000000</td>\n",
              "    </tr>\n",
              "    <tr>\n",
              "      <th>50%</th>\n",
              "      <td>72.000000</td>\n",
              "      <td>2.000000</td>\n",
              "      <td>4.000000</td>\n",
              "    </tr>\n",
              "    <tr>\n",
              "      <th>75%</th>\n",
              "      <td>110.000000</td>\n",
              "      <td>3.000000</td>\n",
              "      <td>11.000000</td>\n",
              "    </tr>\n",
              "    <tr>\n",
              "      <th>max</th>\n",
              "      <td>20628.000000</td>\n",
              "      <td>1000.000000</td>\n",
              "      <td>275.000000</td>\n",
              "    </tr>\n",
              "  </tbody>\n",
              "</table>\n",
              "</div>"
            ],
            "text/plain": [
              "              price  minimum_nights  calculated_host_listings_count\n",
              "count  19458.000000    19458.000000                    19458.000000\n",
              "mean     108.296022        3.850396                       14.212560\n",
              "std      281.433465       16.737444                       36.725234\n",
              "min        0.000000        1.000000                        1.000000\n",
              "25%       50.000000        1.000000                        1.000000\n",
              "50%       72.000000        2.000000                        4.000000\n",
              "75%      110.000000        3.000000                       11.000000\n",
              "max    20628.000000     1000.000000                      275.000000"
            ]
          },
          "metadata": {},
          "execution_count": 8
        }
      ]
    },
    {
      "cell_type": "markdown",
      "metadata": {
        "id": "9GBZoMDSBmip"
      },
      "source": [
        "**Observações:**\n",
        "\n",
        "Nos 3 é possível observar uma discrepância grande nos dados distribuídos até 75% e o Máximo. Fortalecendo a tese de que há *outliers* a serem tratados."
      ]
    },
    {
      "cell_type": "markdown",
      "metadata": {
        "id": "0Zlet2YrCPoF"
      },
      "source": [
        "### Analisando: minimum_nights\n",
        "\n",
        "Qualquer valor mínimo acima de 30 dias, será considerado fora do padrão. Já que o Airbnb não há tanto sentido uma quantidade alta de diárias mínimas."
      ]
    },
    {
      "cell_type": "code",
      "metadata": {
        "colab": {
          "base_uri": "https://localhost:8080/",
          "height": 262
        },
        "id": "OUchYarwBjE-",
        "outputId": "aca48de3-6c24-4a31-98dd-7722c18189a0"
      },
      "source": [
        "# Plotando o Boxplot\n",
        "\n",
        "df.minimum_nights.plot(kind='box', vert=False, figsize=(15,3))\n",
        "plt.show()\n",
        "\n",
        "# Checando a quantidade de valores acima de 30 dias\n",
        "\n",
        "print(\"minimum_nights: valores acima de 30 dias:\")\n",
        "print(\"{} entradas\".format(len(df[df.minimum_nights > 30])))\n",
        "print(\"{:.4f}%\".format((len(df[df.minimum_nights > 30]) / df.shape[0])*100))"
      ],
      "execution_count": null,
      "outputs": [
        {
          "output_type": "display_data",
          "data": {
            "image/png": "[encoded data removed]",
            "text/plain": [
              "<Figure size 1080x216 with 1 Axes>"
            ]
          },
          "metadata": {
            "needs_background": "light"
          }
        },
        {
          "output_type": "stream",
          "name": "stdout",
          "text": [
            "minimum_nights: valores acima de 30 dias:\n",
            "95 entradas\n",
            "0.4882%\n"
          ]
        }
      ]
    },
    {
      "cell_type": "markdown",
      "metadata": {
        "id": "hR8COnsiDcBM"
      },
      "source": [
        "### Analisando: price"
      ]
    },
    {
      "cell_type": "code",
      "metadata": {
        "colab": {
          "base_uri": "https://localhost:8080/",
          "height": 279
        },
        "id": "HZDgW8ZEDe3p",
        "outputId": "1765161f-b4f4-4a0e-bcc1-679161cd1667"
      },
      "source": [
        "# Boxplot de price\n",
        "\n",
        "df.price.plot(kind='box', vert=False, figsize=(15, 3))\n",
        "plt.show()\n",
        "\n",
        "# Checar valores acima de 500\n",
        "print(\"\\nprice: valores acima de 500\")\n",
        "print(\"{} entradas\".format(len(df[df.price > 500])))\n",
        "print(\"{:.4f}%\".format((len(df[df.price > 500]) / df.shape[0])*100))"
      ],
      "execution_count": null,
      "outputs": [
        {
          "output_type": "display_data",
          "data": {
            "image/png": "[encoded data removed]",
            "text/plain": [
              "<Figure size 1080x216 with 1 Axes>"
            ]
          },
          "metadata": {
            "needs_background": "light"
          }
        },
        {
          "output_type": "stream",
          "name": "stdout",
          "text": [
            "\n",
            "price: valores acima de 500\n",
            "289 entradas\n",
            "1.4853%\n"
          ]
        }
      ]
    },
    {
      "cell_type": "markdown",
      "metadata": {
        "id": "framBhRw0E-x"
      },
      "source": [
        "### Analisando: calculated_host_listings_count"
      ]
    },
    {
      "cell_type": "code",
      "metadata": {
        "colab": {
          "base_uri": "https://localhost:8080/",
          "height": 279
        },
        "id": "U7YXMLYo0KPl",
        "outputId": "13b1b209-b9d9-46bb-f7ae-02cc90fb77d1"
      },
      "source": [
        "# Boxplot de calculated_host_listings_count\n",
        "\n",
        "df.calculated_host_listings_count.plot(kind='box', vert=False, figsize=(15, 3))\n",
        "plt.show()\n",
        "\n",
        "# Checar valores acima de 140\n",
        "print(\"\\nprice: valores acima de 140\")\n",
        "print(\"{} entradas\".format(len(df[df.calculated_host_listings_count > 140])))\n",
        "print(\"{:.4f}%\".format((len(df[df.calculated_host_listings_count > 140]) / df.shape[0])*100))"
      ],
      "execution_count": null,
      "outputs": [
        {
          "output_type": "display_data",
          "data": {
            "image/png": "[encoded data removed]",
            "text/plain": [
              "<Figure size 1080x216 with 1 Axes>"
            ]
          },
          "metadata": {
            "needs_background": "light"
          }
        },
        {
          "output_type": "stream",
          "name": "stdout",
          "text": [
            "\n",
            "price: valores acima de 140\n",
            "275 entradas\n",
            "1.4133%\n"
          ]
        }
      ]
    },
    {
      "cell_type": "markdown",
      "metadata": {
        "id": "B4vTHFTr1Prj"
      },
      "source": [
        "### Histogramas sem os Outliers\n",
        "\n",
        "Conforme os valores observados acima, agora será feita a análise retirando os *outliers*"
      ]
    },
    {
      "cell_type": "code",
      "metadata": {
        "colab": {
          "base_uri": "https://localhost:8080/",
          "height": 607
        },
        "id": "mGKYTtA_1anB",
        "outputId": "3b60924a-8db1-4d8e-b9c9-651575ada293"
      },
      "source": [
        "# remover os *outliers* em um novo DataFrame\n",
        "df_clean = df.copy()\n",
        "df_clean.drop(df_clean[df_clean.price > 500].index, axis=0, inplace=True)\n",
        "df_clean.drop(df_clean[df_clean.minimum_nights > 30].index, axis=0, inplace=True)\n",
        "df_clean.drop(df_clean[df_clean.calculated_host_listings_count > 140].index, axis=0, inplace=True)\n",
        "\n",
        "# plotar o histograma para as variáveis numéricas\n",
        "df_clean.hist(bins=15, figsize=(15,10));"
      ],
      "execution_count": null,
      "outputs": [
        {
          "output_type": "display_data",
          "data": {
            "image/png": "[encoded data removed]",
            "text/plain": [
              "<Figure size 1080x720 with 12 Axes>"
            ]
          },
          "metadata": {
            "needs_background": "light"
          }
        }
      ]
    },
    {
      "cell_type": "markdown",
      "metadata": {
        "id": "Lbfc5Rke1y-D"
      },
      "source": [
        "### Analise do Dataframe após a limpeza"
      ]
    },
    {
      "cell_type": "code",
      "metadata": {
        "colab": {
          "base_uri": "https://localhost:8080/"
        },
        "id": "-L4IOUht15VC",
        "outputId": "f2e78875-0f0a-4e95-b1bc-0cfee8d2db74"
      },
      "source": [
        "print(\"Antes da limpeza: \", df.shape)\n",
        "print(\"Após o tratamento: \", df_clean.shape)"
      ],
      "execution_count": null,
      "outputs": [
        {
          "output_type": "stream",
          "name": "stdout",
          "text": [
            "Antes da limpeza:  (19458, 16)\n",
            "Após o tratamento:  (18800, 16)\n"
          ]
        }
      ]
    },
    {
      "cell_type": "markdown",
      "metadata": {
        "id": "vHcOtTsv2NNO"
      },
      "source": [
        "--------------------------\n",
        "* **Com uma perda baixa dos dados, já foi possível fazer uma boa limpeza dos dados.** \n",
        "--------------------------"
      ]
    },
    {
      "cell_type": "markdown",
      "metadata": {
        "id": "IXn2oIo5qx-w"
      },
      "source": [
        "### **Q4. Qual a correlação existente entre as variáveis**"
      ]
    },
    {
      "cell_type": "code",
      "metadata": {
        "id": "x2ayzBajqxyd",
        "colab": {
          "base_uri": "https://localhost:8080/",
          "height": 235
        },
        "outputId": "000f5bfd-1867-4388-ec90-55bfd0639040"
      },
      "source": [
        "# criar uma matriz de correlação\n",
        "corr = df_clean[['price', 'minimum_nights', 'number_of_reviews', 'reviews_per_month', 'calculated_host_listings_count', 'availability_365']].corr()\n",
        "# mostrar a matriz de correlação\n",
        "display(corr)"
      ],
      "execution_count": null,
      "outputs": [
        {
          "output_type": "display_data",
          "data": {
            "text/html": [
              "<div>\n",
              "<style scoped>\n",
              "    .dataframe tbody tr th:only-of-type {\n",
              "        vertical-align: middle;\n",
              "    }\n",
              "\n",
              "    .dataframe tbody tr th {\n",
              "        vertical-align: top;\n",
              "    }\n",
              "\n",
              "    .dataframe thead th {\n",
              "        text-align: right;\n",
              "    }\n",
              "</style>\n",
              "<table border=\"1\" class=\"dataframe\">\n",
              "  <thead>\n",
              "    <tr style=\"text-align: right;\">\n",
              "      <th></th>\n",
              "      <th>price</th>\n",
              "      <th>minimum_nights</th>\n",
              "      <th>number_of_reviews</th>\n",
              "      <th>reviews_per_month</th>\n",
              "      <th>calculated_host_listings_count</th>\n",
              "      <th>availability_365</th>\n",
              "    </tr>\n",
              "  </thead>\n",
              "  <tbody>\n",
              "    <tr>\n",
              "      <th>price</th>\n",
              "      <td>1.000000</td>\n",
              "      <td>-0.039330</td>\n",
              "      <td>-0.125044</td>\n",
              "      <td>-0.131101</td>\n",
              "      <td>0.015767</td>\n",
              "      <td>0.062227</td>\n",
              "    </tr>\n",
              "    <tr>\n",
              "      <th>minimum_nights</th>\n",
              "      <td>-0.039330</td>\n",
              "      <td>1.000000</td>\n",
              "      <td>-0.068578</td>\n",
              "      <td>-0.098685</td>\n",
              "      <td>-0.041060</td>\n",
              "      <td>-0.066185</td>\n",
              "    </tr>\n",
              "    <tr>\n",
              "      <th>number_of_reviews</th>\n",
              "      <td>-0.125044</td>\n",
              "      <td>-0.068578</td>\n",
              "      <td>1.000000</td>\n",
              "      <td>0.740764</td>\n",
              "      <td>-0.090878</td>\n",
              "      <td>-0.006370</td>\n",
              "    </tr>\n",
              "    <tr>\n",
              "      <th>reviews_per_month</th>\n",
              "      <td>-0.131101</td>\n",
              "      <td>-0.098685</td>\n",
              "      <td>0.740764</td>\n",
              "      <td>1.000000</td>\n",
              "      <td>-0.057655</td>\n",
              "      <td>0.023847</td>\n",
              "    </tr>\n",
              "    <tr>\n",
              "      <th>calculated_host_listings_count</th>\n",
              "      <td>0.015767</td>\n",
              "      <td>-0.041060</td>\n",
              "      <td>-0.090878</td>\n",
              "      <td>-0.057655</td>\n",
              "      <td>1.000000</td>\n",
              "      <td>0.021164</td>\n",
              "    </tr>\n",
              "    <tr>\n",
              "      <th>availability_365</th>\n",
              "      <td>0.062227</td>\n",
              "      <td>-0.066185</td>\n",
              "      <td>-0.006370</td>\n",
              "      <td>0.023847</td>\n",
              "      <td>0.021164</td>\n",
              "      <td>1.000000</td>\n",
              "    </tr>\n",
              "  </tbody>\n",
              "</table>\n",
              "</div>"
            ],
            "text/plain": [
              "                                   price  ...  availability_365\n",
              "price                           1.000000  ...          0.062227\n",
              "minimum_nights                 -0.039330  ...         -0.066185\n",
              "number_of_reviews              -0.125044  ...         -0.006370\n",
              "reviews_per_month              -0.131101  ...          0.023847\n",
              "calculated_host_listings_count  0.015767  ...          0.021164\n",
              "availability_365                0.062227  ...          1.000000\n",
              "\n",
              "[6 rows x 6 columns]"
            ]
          },
          "metadata": {}
        }
      ]
    },
    {
      "cell_type": "code",
      "metadata": {
        "id": "91UujDr6ueqE",
        "colab": {
          "base_uri": "https://localhost:8080/",
          "height": 411
        },
        "outputId": "67392a49-9665-48f1-f8e6-4172f7451b05"
      },
      "source": [
        "# plotar um heatmap a partir das correlações\n",
        "sns.heatmap(corr, cmap='Spectral', fmt='.2f', square=True, linecolor='white', annot=True);"
      ],
      "execution_count": null,
      "outputs": [
        {
          "output_type": "display_data",
          "data": {
            "image/png": "[encoded data removed]",
            "text/plain": [
              "<Figure size 432x288 with 2 Axes>"
            ]
          },
          "metadata": {
            "needs_background": "light"
          }
        }
      ]
    },
    {
      "cell_type": "markdown",
      "metadata": {
        "id": "7b6RMWpuHKN-"
      },
      "source": [
        "### **Q5. Qual o tipo de imóvel mais alugado no Airbnb?**\n",
        "\n",
        "Ao analisar a variável *room_type* será possível extrair as inforamções do tipo de imóvel anunciado. Dentre as opções podemos encontrar espaços inteiros, quarto privado, quarto compartilhado e outros."
      ]
    },
    {
      "cell_type": "code",
      "metadata": {
        "id": "ueLPNWvPHgfB",
        "colab": {
          "base_uri": "https://localhost:8080/"
        },
        "outputId": "4db62647-7867-4ad7-9d15-9e37cc6e0db6"
      },
      "source": [
        "# mostrar a quantidade de cada tipo de imóvel disponível\n",
        "df_clean.room_type.value_counts()"
      ],
      "execution_count": null,
      "outputs": [
        {
          "output_type": "execute_result",
          "data": {
            "text/plain": [
              "Entire home/apt    13893\n",
              "Private room        4205\n",
              "Hotel room           360\n",
              "Shared room          342\n",
              "Name: room_type, dtype: int64"
            ]
          },
          "metadata": {},
          "execution_count": 16
        }
      ]
    },
    {
      "cell_type": "code",
      "metadata": {
        "id": "EvwoO-XAHhIm",
        "colab": {
          "base_uri": "https://localhost:8080/"
        },
        "outputId": "46f8fc3d-bd0c-4b04-c1cc-b517ffcea36b"
      },
      "source": [
        "# mostrar a porcentagem de cada tipo de imóvel disponível\n",
        "df_clean.room_type.value_counts() / df_clean.shape[0]"
      ],
      "execution_count": null,
      "outputs": [
        {
          "output_type": "execute_result",
          "data": {
            "text/plain": [
              "Entire home/apt    0.738989\n",
              "Private room       0.223670\n",
              "Hotel room         0.019149\n",
              "Shared room        0.018191\n",
              "Name: room_type, dtype: float64"
            ]
          },
          "metadata": {},
          "execution_count": 17
        }
      ]
    },
    {
      "cell_type": "markdown",
      "metadata": {
        "id": "V4XEsJFx4z0T"
      },
      "source": [
        "**"
      ]
    },
    {
      "cell_type": "markdown",
      "metadata": {
        "id": "DEKYYVeI41NP"
      },
      "source": [
        "---\n",
        "**Logo podemos observar que cerca de 73% dos anúncios se referem a casa ou apartamento inteiro**\n",
        "\n",
        "----"
      ]
    },
    {
      "cell_type": "markdown",
      "metadata": {
        "id": "MFa5NbnLJMcd"
      },
      "source": [
        "### **Q6. Qual a localidade mais cara do dataset?**\n",
        "\n"
      ]
    },
    {
      "cell_type": "code",
      "metadata": {
        "id": "MD_xa143JZpi",
        "colab": {
          "base_uri": "https://localhost:8080/"
        },
        "outputId": "32fe5105-13f5-4f42-e82e-aa1ccb942757"
      },
      "source": [
        "# ver preços por bairros, na média\n",
        "df_clean.groupby(['neighbourhood']).price.mean().sort_values(ascending=False)[:20]"
      ],
      "execution_count": null,
      "outputs": [
        {
          "output_type": "execute_result",
          "data": {
            "text/plain": [
              "neighbourhood\n",
              "Alguber                                     480.000000\n",
              "Ota                                         465.000000\n",
              "Cardosas                                    298.000000\n",
              "Vermelha                                    276.500000\n",
              "Aveiras de Baixo                            274.500000\n",
              "Vale do Paraso                              230.000000\n",
              "Carvoeira e Carmes                          191.250000\n",
              "Azueira e Sobral da Abelheira               185.000000\n",
              "Santa Brbara                                167.916667\n",
              "Ribamar                                     162.470588\n",
              "So Pedro da Cadeira                         159.611111\n",
              "Maxial e Monte Redondo                      158.000000\n",
              "Turcifal                                    154.333333\n",
              "Arranh                                      150.000000\n",
              "Colares                                     145.576602\n",
              "Alhandra, So Joo dos Montes e Calhandriz    141.333333\n",
              "Bucelas                                     138.000000\n",
              "Castanheira do Ribatejo e Cachoeiras        137.000000\n",
              "Vilar                                       135.846154\n",
              "Igreja Nova e Cheleiros                     131.476190\n",
              "Name: price, dtype: float64"
            ]
          },
          "metadata": {},
          "execution_count": 18
        }
      ]
    },
    {
      "cell_type": "markdown",
      "metadata": {
        "id": "lzEI8K-Q5iB7"
      },
      "source": [
        "### Será que estas são as localidades mais significantes realmente?\n",
        "\n",
        "Caso você não conheça tanto a localidade, é necessário uma análise para checar se estes valores condizem com a realidade.\n",
        "\n",
        "Para isso, vamos checar quantos anúncios tem em cada uma destas 10 localidades.\n",
        "\n",
        "Caso a quantidade de anúncio seja muito baixa, os valores podem estar distorcidos."
      ]
    },
    {
      "cell_type": "code",
      "metadata": {
        "colab": {
          "base_uri": "https://localhost:8080/"
        },
        "id": "mOqoCssO52Hz",
        "outputId": "21118c99-e803-4366-ad2d-564a85ece71f"
      },
      "source": [
        "# Quantidade de anúncios nas localidades de maior preço\n",
        "for i in (df_clean.groupby(['neighbourhood']).price.mean().sort_values(ascending=False)[:20].index):\n",
        "  print(\"Em {} :\".format(i), df_clean[df_clean.neighbourhood == i].shape[0])"
      ],
      "execution_count": null,
      "outputs": [
        {
          "output_type": "stream",
          "name": "stdout",
          "text": [
            "Em Alguber : 1\n",
            "Em Ota : 1\n",
            "Em Cardosas : 1\n",
            "Em Vermelha : 2\n",
            "Em Aveiras de Baixo : 2\n",
            "Em Vale do Paraso : 1\n",
            "Em Carvoeira e Carmes : 4\n",
            "Em Azueira e Sobral da Abelheira : 3\n",
            "Em Santa Brbara : 12\n",
            "Em Ribamar : 17\n",
            "Em So Pedro da Cadeira : 18\n",
            "Em Maxial e Monte Redondo : 4\n",
            "Em Turcifal : 6\n",
            "Em Arranh : 2\n",
            "Em Colares : 359\n",
            "Em Alhandra, So Joo dos Montes e Calhandriz : 12\n",
            "Em Bucelas : 8\n",
            "Em Castanheira do Ribatejo e Cachoeiras : 2\n",
            "Em Vilar : 13\n",
            "Em Igreja Nova e Cheleiros : 21\n"
          ]
        }
      ]
    },
    {
      "cell_type": "markdown",
      "metadata": {
        "id": "q3hPBurY7STc"
      },
      "source": [
        "---\n",
        "\n",
        "Ao analisar a quantidade de anúncios, podemos observar que a quantidade de anúncios nas localidades com maior preço, são muito baixas.\n",
        "\n",
        "Vamos analisar as localidades com mais anúncios para comprovar tal fato:"
      ]
    },
    {
      "cell_type": "code",
      "metadata": {
        "colab": {
          "base_uri": "https://localhost:8080/"
        },
        "id": "gCGoUfUm60H9",
        "outputId": "0a98b251-1c32-4524-bba9-5811783ed922"
      },
      "source": [
        "# Localidades com mais anúncios\n",
        "df_clean.neighbourhood.value_counts()[:15]"
      ],
      "execution_count": null,
      "outputs": [
        {
          "output_type": "execute_result",
          "data": {
            "text/plain": [
              "Santa Maria Maior                                    3029\n",
              "Misericrdia                                          2250\n",
              "Arroios                                              1722\n",
              "Cascais e Estoril                                    1215\n",
              "Santo Antnio                                         1071\n",
              "So Vicente                                           1034\n",
              "Estrela                                               758\n",
              "Ericeira                                              668\n",
              "Avenidas Novas                                        666\n",
              "S.Maria, S.Miguel, S.Martinho, S.Pedro Penaferrim     515\n",
              "Penha de Frana                                        403\n",
              "Colares                                               359\n",
              "Carcavelos e Parede                                   310\n",
              "Lourinh e Atalaia                                     300\n",
              "Areeiro                                               294\n",
              "Name: neighbourhood, dtype: int64"
            ]
          },
          "metadata": {},
          "execution_count": 20
        }
      ]
    },
    {
      "cell_type": "code",
      "metadata": {
        "colab": {
          "base_uri": "https://localhost:8080/"
        },
        "id": "fVnN7pPQHKpK",
        "outputId": "6e43b42d-bd65-4a0a-bc58-e1efe1726477"
      },
      "source": [
        "neighb = []\n",
        "for i in df_clean.neighbourhood.value_counts()[:15].index:\n",
        "  neighb.append(i)\n",
        "\n",
        "neighb\n",
        "\n"
      ],
      "execution_count": null,
      "outputs": [
        {
          "output_type": "execute_result",
          "data": {
            "text/plain": [
              "['Santa Maria Maior',\n",
              " 'Misericrdia',\n",
              " 'Arroios',\n",
              " 'Cascais e Estoril',\n",
              " 'Santo Antnio',\n",
              " 'So Vicente',\n",
              " 'Estrela',\n",
              " 'Ericeira',\n",
              " 'Avenidas Novas',\n",
              " 'S.Maria, S.Miguel, S.Martinho, S.Pedro Penaferrim',\n",
              " 'Penha de Frana',\n",
              " 'Colares',\n",
              " 'Carcavelos e Parede',\n",
              " 'Lourinh e Atalaia',\n",
              " 'Areeiro']"
            ]
          },
          "metadata": {},
          "execution_count": 21
        }
      ]
    },
    {
      "cell_type": "markdown",
      "metadata": {
        "id": "08_tANFg7t5T"
      },
      "source": [
        "--- \n",
        "\n",
        "Podemos observar que apenas **colares** aparece na lista inicial. Talvez, fazer uma lista com os preços das localidades mais importantes seja bem mais expressivo."
      ]
    },
    {
      "cell_type": "code",
      "metadata": {
        "id": "eVnytml178iz"
      },
      "source": [
        "list_mean = []\n",
        "for i in neighb:\n",
        "#  print(df_clean.neighbourhood.groupby(i).price.mean().sort_values(ascending=False))\n",
        "  mean = round(df_clean[df_clean.neighbourhood == i].groupby('neighbourhood').price.mean()[0], 2)\n",
        "  list_mean.append(mean)\n",
        "  df_neighb = pd.DataFrame(list(zip(neighb,list_mean)), columns = ['Neighborhood','Mean'])\n",
        "\n"
      ],
      "execution_count": null,
      "outputs": []
    },
    {
      "cell_type": "code",
      "metadata": {
        "id": "FtJ8iID-Edh-"
      },
      "source": [
        "df_neighb.set_index('Neighborhood', inplace=True)"
      ],
      "execution_count": null,
      "outputs": []
    },
    {
      "cell_type": "code",
      "metadata": {
        "colab": {
          "base_uri": "https://localhost:8080/",
          "height": 545
        },
        "id": "2Rz4KsP2n2eB",
        "outputId": "dc1cf88d-797e-4c43-b258-cae3618a0891"
      },
      "source": [
        "df_neighb.sort_values(by = 'Mean', ascending=False)"
      ],
      "execution_count": null,
      "outputs": [
        {
          "output_type": "execute_result",
          "data": {
            "text/html": [
              "<div>\n",
              "<style scoped>\n",
              "    .dataframe tbody tr th:only-of-type {\n",
              "        vertical-align: middle;\n",
              "    }\n",
              "\n",
              "    .dataframe tbody tr th {\n",
              "        vertical-align: top;\n",
              "    }\n",
              "\n",
              "    .dataframe thead th {\n",
              "        text-align: right;\n",
              "    }\n",
              "</style>\n",
              "<table border=\"1\" class=\"dataframe\">\n",
              "  <thead>\n",
              "    <tr style=\"text-align: right;\">\n",
              "      <th></th>\n",
              "      <th>Mean</th>\n",
              "    </tr>\n",
              "    <tr>\n",
              "      <th>Neighborhood</th>\n",
              "      <th></th>\n",
              "    </tr>\n",
              "  </thead>\n",
              "  <tbody>\n",
              "    <tr>\n",
              "      <th>Colares</th>\n",
              "      <td>145.58</td>\n",
              "    </tr>\n",
              "    <tr>\n",
              "      <th>Cascais e Estoril</th>\n",
              "      <td>128.72</td>\n",
              "    </tr>\n",
              "    <tr>\n",
              "      <th>Lourinh e Atalaia</th>\n",
              "      <td>121.23</td>\n",
              "    </tr>\n",
              "    <tr>\n",
              "      <th>Ericeira</th>\n",
              "      <td>113.56</td>\n",
              "    </tr>\n",
              "    <tr>\n",
              "      <th>S.Maria, S.Miguel, S.Martinho, S.Pedro Penaferrim</th>\n",
              "      <td>105.25</td>\n",
              "    </tr>\n",
              "    <tr>\n",
              "      <th>Santa Maria Maior</th>\n",
              "      <td>93.01</td>\n",
              "    </tr>\n",
              "    <tr>\n",
              "      <th>Misericrdia</th>\n",
              "      <td>92.82</td>\n",
              "    </tr>\n",
              "    <tr>\n",
              "      <th>Santo Antnio</th>\n",
              "      <td>90.82</td>\n",
              "    </tr>\n",
              "    <tr>\n",
              "      <th>Carcavelos e Parede</th>\n",
              "      <td>86.20</td>\n",
              "    </tr>\n",
              "    <tr>\n",
              "      <th>Estrela</th>\n",
              "      <td>83.89</td>\n",
              "    </tr>\n",
              "    <tr>\n",
              "      <th>So Vicente</th>\n",
              "      <td>82.43</td>\n",
              "    </tr>\n",
              "    <tr>\n",
              "      <th>Arroios</th>\n",
              "      <td>73.18</td>\n",
              "    </tr>\n",
              "    <tr>\n",
              "      <th>Avenidas Novas</th>\n",
              "      <td>70.42</td>\n",
              "    </tr>\n",
              "    <tr>\n",
              "      <th>Areeiro</th>\n",
              "      <td>64.02</td>\n",
              "    </tr>\n",
              "    <tr>\n",
              "      <th>Penha de Frana</th>\n",
              "      <td>61.92</td>\n",
              "    </tr>\n",
              "  </tbody>\n",
              "</table>\n",
              "</div>"
            ],
            "text/plain": [
              "                                                     Mean\n",
              "Neighborhood                                             \n",
              "Colares                                            145.58\n",
              "Cascais e Estoril                                  128.72\n",
              "Lourinh e Atalaia                                  121.23\n",
              "Ericeira                                           113.56\n",
              "S.Maria, S.Miguel, S.Martinho, S.Pedro Penaferrim  105.25\n",
              "Santa Maria Maior                                   93.01\n",
              "Misericrdia                                         92.82\n",
              "Santo Antnio                                        90.82\n",
              "Carcavelos e Parede                                 86.20\n",
              "Estrela                                             83.89\n",
              "So Vicente                                          82.43\n",
              "Arroios                                             73.18\n",
              "Avenidas Novas                                      70.42\n",
              "Areeiro                                             64.02\n",
              "Penha de Frana                                      61.92"
            ]
          },
          "metadata": {},
          "execution_count": 42
        }
      ]
    },
    {
      "cell_type": "markdown",
      "metadata": {
        "id": "BWzAIPxPoQCr"
      },
      "source": [
        "---\n",
        "Agora podemos dizer que temos dados mais significativos. Entre os 15 bairros com mais anúncios está é a média de preços.\n",
        "Para comprovar os dados, vamos checar, se a média de preços geral realmente está em torno da média destes anúncios mais significativos."
      ]
    },
    {
      "cell_type": "code",
      "metadata": {
        "colab": {
          "base_uri": "https://localhost:8080/"
        },
        "id": "bkm3yXzcosUX",
        "outputId": "016c4730-a521-47a6-8ff3-8950db8355df"
      },
      "source": [
        "df_clean.price.describe()"
      ],
      "execution_count": null,
      "outputs": [
        {
          "output_type": "execute_result",
          "data": {
            "text/plain": [
              "count    18800.000000\n",
              "mean        91.601064\n",
              "std         73.465466\n",
              "min          0.000000\n",
              "25%         49.000000\n",
              "50%         71.000000\n",
              "75%        108.000000\n",
              "max        500.000000\n",
              "Name: price, dtype: float64"
            ]
          },
          "metadata": {},
          "execution_count": 46
        }
      ]
    },
    {
      "cell_type": "markdown",
      "metadata": {
        "id": "FA0zsEkbo84B"
      },
      "source": [
        "---\n",
        "A média de 91,6 realmente representa bem a média dos anúncios mais significativos."
      ]
    },
    {
      "cell_type": "code",
      "metadata": {
        "id": "UxVJqJ_3W59I",
        "colab": {
          "base_uri": "https://localhost:8080/",
          "height": 476
        },
        "outputId": "1dcb91ed-f293-4951-b949-64447133a812"
      },
      "source": [
        "# plotar os imóveis pela latitude-longitude\n",
        "df_clean.plot(kind=\"scatter\", x='longitude', y='latitude', alpha=0.4, c=df_clean['price'], s=8,\n",
        "              cmap=plt.get_cmap('jet'), figsize=(12,8));"
      ],
      "execution_count": null,
      "outputs": [
        {
          "output_type": "display_data",
          "data": {
            "image/png": "[encoded data removed]",
            "text/plain": [
              "<Figure size 864x576 with 2 Axes>"
            ]
          },
          "metadata": {
            "needs_background": "light"
          }
        }
      ]
    },
    {
      "cell_type": "markdown",
      "metadata": {
        "id": "vTneAMRUYvr1"
      },
      "source": [
        "### **Q7. Qual é a média do mínimo de noites para aluguel (minimum_nights)?**"
      ]
    },
    {
      "cell_type": "code",
      "metadata": {
        "id": "_VzNhrEgY82N",
        "colab": {
          "base_uri": "https://localhost:8080/"
        },
        "outputId": "1269ee80-4701-4984-86dd-4f03a5994516"
      },
      "source": [
        "# ver a média da coluna `minimum_nights`\n",
        "df_clean.minimum_nights.mean()"
      ],
      "execution_count": null,
      "outputs": [
        {
          "output_type": "execute_result",
          "data": {
            "text/plain": [
              "3.098031914893617"
            ]
          },
          "metadata": {},
          "execution_count": 48
        }
      ]
    },
    {
      "cell_type": "code",
      "metadata": {
        "colab": {
          "base_uri": "https://localhost:8080/"
        },
        "id": "nBY02MxnphaJ",
        "outputId": "ea0e0a4d-ada6-4c03-c14a-1eaca4fd108f"
      },
      "source": [
        "# Antes do tratamento a média era:\n",
        "df.minimum_nights.mean()"
      ],
      "execution_count": null,
      "outputs": [
        {
          "output_type": "execute_result",
          "data": {
            "text/plain": [
              "3.8503957241237536"
            ]
          },
          "metadata": {},
          "execution_count": 49
        }
      ]
    },
    {
      "cell_type": "markdown",
      "metadata": {
        "id": "3VzVjlN_pgDA"
      },
      "source": [
        "É possível observar um ajuste de quase 1 dia na média de noites mínimas."
      ]
    },
    {
      "cell_type": "markdown",
      "metadata": {
        "id": "GkvAg623RjoR"
      },
      "source": [
        "## Conclusões\n"
      ]
    },
    {
      "cell_type": "markdown",
      "metadata": {
        "id": "rbZ3Hsy9Ypw8"
      },
      "source": [
        "A partir da análise acima é possível trazer algumas observações:\n",
        "\n",
        "\n",
        "\n",
        "1.   Os dados importados possuíam uma **percentagem baixa de dados faltantes**. A coluna com mais dados ausentes era de 18%. Por vezes estes números costumam ser mais expressivos e necessitam de mais tratamento.\n",
        "2.   A **identificação inicial de *outliers* permitiu um melhor ajute de valores** a realidade. Os valores das variáveis foram testados, até que a perda de dados fosse de aproximadamente de **1%** apenas. Assim, não seriam excluídos muitos dados.\n",
        "3.   A **matriz de correlação** não trouxe uma correlação forte entre os dados que estavam sendo trabalhados. A maior correlação observada foi entre \"number of reviews\" e \"reviews per month\". O que tem bastante lógica.\n",
        "4.   Ao observar os maiores **valores anunciados por cada bairro**, foi possível observar uma **grande discrepância nos valores**. Então, foi possível observar que estes bairros possuíam poucos anúncios, então sua média era puxada para cima.\n",
        "5.   Foi realizada uma **seleção dos bairros com mais anúncios**, e ao observar a média dos mesmos, foi possível trazer **valores mais próximos da realidade da amostra**.\n",
        "\n",
        "---\n",
        "\n",
        "Certamente foi possível observar a importância da limpeza dos dados e principalmente a necessidade de compreender os números extraídos.\n",
        "\n",
        "Se simplesmente não fosse feita uma análise dos maiores valores de anúncio, seria possível acreditar que bairros sem grande expressão de anúncios poderiam ser os mais caros.\n",
        "\n"
      ]
    },
    {
      "cell_type": "markdown",
      "metadata": {
        "id": "VUe0QFtjs2i7"
      },
      "source": [
        "<img alt=\"Colaboratory logo\" width=\"40%\" src=\"https://github.com/alexandre-ferreira-1986/DataScience/blob/main/Images/Logo_04_02_menor.jpg?raw=true\">\n",
        "\n",
        "by [Alexandre Ferreira](https://www.linkedin.com/in/alexandre-dos-santos-ferreira-2884651a4/)"
      ]
    }
  ]
}